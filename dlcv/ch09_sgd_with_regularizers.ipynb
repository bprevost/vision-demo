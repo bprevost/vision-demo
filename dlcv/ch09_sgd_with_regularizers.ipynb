{
 "cells": [
  {
   "cell_type": "code",
   "execution_count": null,
   "metadata": {},
   "outputs": [],
   "source": [
    "from os.path import expanduser\n",
    "from sklearn.linear_model import SGDClassifier\n",
    "from sklearn.preprocessing import LabelEncoder\n",
    "from sklearn.model_selection import train_test_split\n",
    "from imutils import paths\n",
    "from dlcv import SimpleDatasetLoader, SimplePreprocessor"
   ]
  },
  {
   "cell_type": "code",
   "execution_count": null,
   "metadata": {},
   "outputs": [],
   "source": [
    "# path to input dataset\n",
    "DATASET = expanduser('~/dlcv/code/datasets/animals')\n",
    "\n",
    "# get the list of image paths\n",
    "image_path_list = list(paths.list_images(DATASET))\n",
    "if not image_path_list:\n",
    "    print('no files found')\n",
    "    quit()\n",
    "\n",
    "# initialize the image preprocessor\n",
    "sp = SimplePreprocessor(width=32, height=32)\n",
    "\n",
    "# load the dataset from disk\n",
    "sdl = SimpleDatasetLoader(preprocessors=[sp])\n",
    "(data, labels) = sdl.load(image_path_list, verbose=500)\n",
    "print('data shape', data.shape)\n",
    "\n",
    "# reshape the data matrix\n",
    "num_files, height, width, channels = data.shape\n",
    "print(f'{num_files=}')\n",
    "print(f'{height=}')\n",
    "print(f'{width=}')\n",
    "print(f'{channels=}')\n",
    "data = data.reshape((num_files, height * width * channels))\n",
    "print('data shape', data.shape)\n",
    "\n",
    "# encode the labels as integers (from text)\n",
    "le = LabelEncoder()\n",
    "labels = le.fit_transform(labels)\n",
    "\n",
    "# split the data into training (75%) and testing (25%) sets\n",
    "(features_train, features_test, labels_train, labels_test) = train_test_split(\n",
    "    data, labels, test_size=0.25, random_state=42)"
   ]
  },
  {
   "cell_type": "code",
   "execution_count": null,
   "metadata": {},
   "outputs": [],
   "source": [
    "# loop over multiple regularizers\n",
    "for r in (None, \"l1\", \"l2\"):\n",
    "    # train a SGD classifier using a softmax loss function and the specified regularization function\n",
    "    print(f'training model with {r} penalty')\n",
    "    model = SGDClassifier(\n",
    "        loss=\"log_loss\",\n",
    "        penalty=r,\n",
    "        max_iter=60, # epochs\n",
    "        learning_rate=\"constant\",\n",
    "        tol=1e-3,\n",
    "        eta0=0.01,\n",
    "        random_state=12\n",
    "    )\n",
    "    model.fit(features_train, labels_train)\n",
    "\n",
    "    # evaluate the classifier\n",
    "    acc = model.score(features_test, labels_test)\n",
    "    print(f'{r} penalty accuracy: {acc*100:.2f}%\\n')"
   ]
  }
 ],
 "metadata": {
  "kernelspec": {
   "display_name": "Python 3",
   "language": "python",
   "name": "python3"
  },
  "language_info": {
   "codemirror_mode": {
    "name": "ipython",
    "version": 3
   },
   "file_extension": ".py",
   "mimetype": "text/x-python",
   "name": "python",
   "nbconvert_exporter": "python",
   "pygments_lexer": "ipython3"
  }
 },
 "nbformat": 4,
 "nbformat_minor": 2
}
