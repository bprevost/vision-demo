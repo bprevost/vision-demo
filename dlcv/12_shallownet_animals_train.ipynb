{
 "cells": [
  {
   "cell_type": "markdown",
   "metadata": {},
   "source": [
    "Inspired by Deep Learning for Computer Vision with Python [Rosebrock]  \n",
    "Chapter 12  \n",
    "ShallowNet: Animals"
   ]
  },
  {
   "cell_type": "code",
   "execution_count": null,
   "metadata": {},
   "outputs": [],
   "source": [
    "from os.path import expanduser\n",
    "from sklearn.model_selection import train_test_split\n",
    "from sklearn.preprocessing import LabelBinarizer\n",
    "from sklearn.metrics import classification_report\n",
    "import tensorflow as tf\n",
    "import matplotlib.pyplot as plt\n",
    "import numpy as np\n",
    "\n",
    "from imutils import paths\n",
    "from dlcv_utils import SimplePreprocessor, ImageToArrayPreprocessor, SimpleDatasetLoader"
   ]
  },
  {
   "cell_type": "code",
   "execution_count": null,
   "metadata": {},
   "outputs": [],
   "source": [
    "# path to input dataset\n",
    "DATASET = expanduser('~/dlcv/code/datasets/animals')\n",
    "\n",
    "# get the list of image paths\n",
    "image_paths = list(paths.list_images(DATASET))\n",
    "if not image_paths:\n",
    "    print('Error! No files found!')\n",
    "    quit()\n",
    "\n",
    "# initialize the image preprocessors\n",
    "sp = SimplePreprocessor(32, 32)\n",
    "iap = ImageToArrayPreprocessor()\n",
    "\n",
    "# load the dataset from disk\n",
    "sdl = SimpleDatasetLoader(preprocessors=[sp, iap])\n",
    "(data, labels) = sdl.load(image_paths, verbose=500)\n",
    "print('data shape', data.shape)\n",
    "\n",
    "# split the data into training (75%) and testing (25%) sets\n",
    "(trainX, testX, trainY, testY) = train_test_split(data, labels, test_size=0.25, random_state=42)\n",
    "\n",
    "# scale data to the range of [0, 1]\n",
    "trainX = trainX.astype('float32') / 255.0\n",
    "testX = testX.astype('float32') / 255.0\n",
    "\n",
    "# convert the labels from integers to vectors\n",
    "lb = LabelBinarizer()\n",
    "trainY = lb.fit_transform(trainY)\n",
    "testY = lb.transform(testY)"
   ]
  },
  {
   "cell_type": "code",
   "execution_count": null,
   "metadata": {},
   "outputs": [],
   "source": [
    "# build the model\n",
    "width = 32\n",
    "height = 32\n",
    "depth = 3\n",
    "classes = 3\n",
    "\n",
    "model = tf.keras.models.Sequential()\n",
    "model.add(tf.keras.Input(shape=(height, width, depth))) # input layer\n",
    "model.add(tf.keras.layers.Conv2D(filters=32, kernel_size=3, padding='same'))\n",
    "model.add(tf.keras.layers.Activation('relu'))\n",
    "model.add(tf.keras.layers.Flatten())\n",
    "model.add(tf.keras.layers.Dense(classes))\n",
    "model.add(tf.keras.layers.Activation('softmax'))\n",
    "model.summary()\n",
    "\n",
    "# initialize the gradient descent optimizer\n",
    "sgd = tf.keras.optimizers.SGD(0.005)\n",
    "\n",
    "# compile the model\n",
    "model.compile(loss='categorical_crossentropy', optimizer=sgd, metrics=['accuracy'])"
   ]
  },
  {
   "cell_type": "code",
   "execution_count": null,
   "metadata": {},
   "outputs": [],
   "source": [
    "# train the model\n",
    "EPOCHS = 100\n",
    "H = model.fit(trainX, trainY, validation_data=(testX, testY), batch_size=32, epochs=EPOCHS, verbose=1)\n",
    "\n",
    "# save the model to disk\n",
    "model.save('shallownet_weights.keras')"
   ]
  },
  {
   "cell_type": "code",
   "execution_count": null,
   "metadata": {},
   "outputs": [],
   "source": [
    "# evaluate the network\n",
    "predictions = model.predict(testX, batch_size=32)\n",
    "label_names = ['cat', 'dog', 'panda']\n",
    "print(label_names)\n",
    "report = classification_report(\n",
    "    y_true=testY.argmax(axis=1),\n",
    "    y_pred=predictions.argmax(axis=1),\n",
    "    target_names=label_names)\n",
    "print(report)\n",
    "\n",
    "# plot the training loss and accuracy\n",
    "plt.style.use('ggplot')\n",
    "plt.figure()\n",
    "plt.plot(np.arange(0, EPOCHS), H.history['loss'], label='train_loss')\n",
    "plt.plot(np.arange(0, EPOCHS), H.history['val_loss'], label='val_loss')\n",
    "plt.plot(np.arange(0, EPOCHS), H.history['accuracy'], label='train_acc')\n",
    "plt.plot(np.arange(0, EPOCHS), H.history['val_accuracy'], label='val_acc')\n",
    "plt.title('Training Loss and Accuracy')\n",
    "plt.xlabel('Epoch #')\n",
    "plt.ylabel('Loss/Accuracy')\n",
    "plt.legend()\n",
    "plt.show()"
   ]
  }
 ],
 "metadata": {
  "kernelspec": {
   "display_name": "Python 3",
   "language": "python",
   "name": "python3"
  },
  "language_info": {
   "codemirror_mode": {
    "name": "ipython",
    "version": 3
   },
   "file_extension": ".py",
   "mimetype": "text/x-python",
   "name": "python",
   "nbconvert_exporter": "python",
   "pygments_lexer": "ipython3"
  }
 },
 "nbformat": 4,
 "nbformat_minor": 2
}
