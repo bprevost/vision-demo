{
 "cells": [
  {
   "cell_type": "markdown",
   "metadata": {},
   "source": [
    "Inspired by Deep Learning for Computer Vision with Python [Rosebrock]  \n",
    "Chapter 10  \n",
    "Perceptron"
   ]
  },
  {
   "cell_type": "code",
   "execution_count": null,
   "metadata": {},
   "outputs": [],
   "source": [
    "import numpy as np"
   ]
  },
  {
   "cell_type": "code",
   "execution_count": null,
   "metadata": {},
   "outputs": [],
   "source": [
    "class Perceptron:\n",
    "\n",
    "    def __init__(self, N, alpha=0.1):\n",
    "        self.W = np.random.randn(N + 1) / np.sqrt(N) # weight matrix\n",
    "        self.alpha = alpha # learning rate\n",
    "\n",
    "    def step(self, x):\n",
    "        # step function\n",
    "        return 1 if x > 0 else 0\n",
    "\n",
    "    def fit(self, X, y, epochs=10):\n",
    "        # bias trick\n",
    "        X = np.c_[X, np.ones((X.shape[0]))]\n",
    "        # loop over the epochs\n",
    "        for epoch in np.arange(0, epochs):\n",
    "            # loop over the data points\n",
    "            for (x, target) in zip(X, y):\n",
    "                # obtain the prediction\n",
    "                pred = self.step(np.dot(x, self.W))\n",
    "                # update the weight matrix if the prediction does not match the target\n",
    "                if pred != target:\n",
    "                    error = pred - target\n",
    "                    self.W += -self.alpha * error * x\n",
    "\n",
    "    def predict(self, X):\n",
    "        # ensure input is a matrix\n",
    "        X = np.atleast_2d(X)\n",
    "        # bias trick\n",
    "        X = np.c_[X, np.ones((X.shape[0]))]\n",
    "        # obtain the prediction\n",
    "        pred = self.step(np.dot(X, self.W))\n",
    "        return pred\n",
    "\n",
    "def perceptron_demo(y, epochs=20):\n",
    "    X = np.array([[0, 0], [0, 1], [1, 0], [1, 1]])\n",
    "    # create the perceptron\n",
    "    p = Perceptron(X.shape[1], alpha=0.1)\n",
    "    # train the perceptron\n",
    "    p.fit(X, y, epochs=epochs)\n",
    "    # test the perceptron\n",
    "    for (x, target) in zip(X, y):\n",
    "        # obtain the prediction\n",
    "        pred = p.predict(x)\n",
    "        print(f'data={x}, ground-truth={target[0]}, pred={pred}')\n",
    "\n",
    "if __name__ == '__main__':\n",
    "    print('Perceptron Demo - AND')\n",
    "    y = np.array([[0], [0], [0], [1]])\n",
    "    perceptron_demo(y)\n",
    "\n",
    "    print('\\nPerceptron Demo - OR')\n",
    "    y = np.array([[0], [1], [1], [1]])\n",
    "    perceptron_demo(y)\n",
    "\n",
    "    print('\\nPerceptron Demo - XOR')\n",
    "    y = np.array([[0], [1], [1], [0]])\n",
    "    perceptron_demo(y)"
   ]
  }
 ],
 "metadata": {
  "kernelspec": {
   "display_name": "Python 3",
   "language": "python",
   "name": "python3"
  },
  "language_info": {
   "codemirror_mode": {
    "name": "ipython",
    "version": 3
   },
   "file_extension": ".py",
   "mimetype": "text/x-python",
   "name": "python",
   "nbconvert_exporter": "python",
   "pygments_lexer": "ipython3"
  }
 },
 "nbformat": 4,
 "nbformat_minor": 2
}
