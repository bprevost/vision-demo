{
 "cells": [
  {
   "cell_type": "markdown",
   "metadata": {},
   "source": [
    "Inspired by Deep Learning for Computer Vision with Python [Rosebrock]  \n",
    "Chapter 7  \n",
    "K-NN Classifier"
   ]
  },
  {
   "cell_type": "code",
   "execution_count": null,
   "metadata": {},
   "outputs": [],
   "source": [
    "from os.path import expanduser\n",
    "from sklearn.preprocessing import LabelEncoder\n",
    "from sklearn.model_selection import train_test_split\n",
    "from sklearn.neighbors import KNeighborsClassifier\n",
    "from sklearn.metrics import classification_report\n",
    "\n",
    "from imutils import paths\n",
    "from dlcv_utils import SimplePreprocessor, SimpleDatasetLoader"
   ]
  },
  {
   "cell_type": "code",
   "execution_count": null,
   "metadata": {},
   "outputs": [],
   "source": [
    "# path to input dataset\n",
    "DATASET = expanduser('~/dlcv/code/datasets/animals')\n",
    "\n",
    "# get the list of image paths\n",
    "image_paths = list(paths.list_images(DATASET))\n",
    "if not image_paths:\n",
    "    print('Error! No files found!')\n",
    "    quit()\n",
    "\n",
    "# initialize the image preprocessor\n",
    "sp = SimplePreprocessor(width=32, height=32)\n",
    "\n",
    "# load the dataset from disk\n",
    "sdl = SimpleDatasetLoader(preprocessors=[sp])\n",
    "(data, labels) = sdl.load(image_paths, verbose=500)\n",
    "print('data shape', data.shape)\n",
    "\n",
    "# reshape the data matrix\n",
    "num_files, height, width, channels = data.shape\n",
    "print(f'{num_files=}')\n",
    "print(f'{height=}')\n",
    "print(f'{width=}')\n",
    "print(f'{channels=}')\n",
    "data = data.reshape((num_files, height * width * channels))\n",
    "print('data shape', data.shape)\n",
    "\n",
    "# encode the labels as integers (from text)\n",
    "le = LabelEncoder()\n",
    "labels = le.fit_transform(labels)\n",
    "\n",
    "# split the data into training and testing sets\n",
    "(features_train, features_test, labels_train, labels_test) = train_test_split(\n",
    "    data, labels, test_size=0.25, random_state=42) # 25% for testing"
   ]
  },
  {
   "cell_type": "code",
   "execution_count": null,
   "metadata": {},
   "outputs": [],
   "source": [
    "# number of nearest neighbors for classification\n",
    "NEIGHBORS = 1\n",
    "\n",
    "# number of jobs for k-NN distance (-1 uses all available cores)\n",
    "NUM_JOBS = -1\n",
    "\n",
    "# train a k-NN classifier on the raw pixel intensities\n",
    "model = KNeighborsClassifier(n_neighbors=NEIGHBORS, n_jobs=NUM_JOBS)\n",
    "model.fit(features_train, labels_train)"
   ]
  },
  {
   "cell_type": "code",
   "execution_count": null,
   "metadata": {},
   "outputs": [],
   "source": [
    "# evaluate the k-NN classifier\n",
    "report = classification_report(\n",
    "    y_true=labels_test,\n",
    "    y_pred=model.predict(features_test),\n",
    "    target_names=le.classes_)\n",
    "print(report)"
   ]
  }
 ],
 "metadata": {
  "kernelspec": {
   "display_name": "Python 3",
   "language": "python",
   "name": "python3"
  },
  "language_info": {
   "codemirror_mode": {
    "name": "ipython",
    "version": 3
   },
   "file_extension": ".py",
   "mimetype": "text/x-python",
   "name": "python",
   "nbconvert_exporter": "python",
   "pygments_lexer": "ipython3"
  }
 },
 "nbformat": 4,
 "nbformat_minor": 2
}
