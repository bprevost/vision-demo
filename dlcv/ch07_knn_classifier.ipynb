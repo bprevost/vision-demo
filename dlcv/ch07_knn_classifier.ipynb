{
 "cells": [
  {
   "cell_type": "code",
   "execution_count": null,
   "metadata": {},
   "outputs": [],
   "source": [
    "from os.path import expanduser\n",
    "from sklearn.neighbors import KNeighborsClassifier\n",
    "from sklearn.preprocessing import LabelEncoder\n",
    "from sklearn.model_selection import train_test_split\n",
    "from sklearn.metrics import classification_report\n",
    "from imutils import paths\n",
    "from dlcv import SimpleDatasetLoader, SimplePreprocessor"
   ]
  },
  {
   "cell_type": "code",
   "execution_count": null,
   "metadata": {},
   "outputs": [],
   "source": [
    "# path to input dataset\n",
    "DATASET = expanduser('~/dlcv/code/datasets/animals')\n",
    "\n",
    "# number of nearest neighbors for classification\n",
    "NEIGHBORS = 1\n",
    "\n",
    "# number of jobs for k-NN distance (-1 uses all available cores)\n",
    "NUM_JOBS = -1\n",
    "\n",
    "# get the list of image paths\n",
    "image_paths = list(paths.list_images(DATASET))\n",
    "if not image_paths:\n",
    "    print('Error! No files found!')\n",
    "\n",
    "# initialize the image preprocessor\n",
    "sp = SimplePreprocessor(width=32, height=32)\n",
    "\n",
    "# load the dataset from disk\n",
    "sdl = SimpleDatasetLoader(preprocessors=[sp])\n",
    "(data, labels) = sdl.load(image_paths, verbose=500)\n",
    "print(data.shape)\n",
    "\n",
    "# reshape the data matrix\n",
    "num_files, height, width, channels = data.shape\n",
    "print(f'{num_files=}')\n",
    "print(f'{height=}')\n",
    "print(f'{width=}')\n",
    "print(f'{channels=}')\n",
    "data = data.reshape((num_files, height * width * channels))\n",
    "print(data.shape)\n",
    "\n",
    "# encode the labels as integers (from text)\n",
    "le = LabelEncoder()\n",
    "labels = le.fit_transform(labels)\n",
    "\n",
    "# split the data into training (75%) and testing (25%) sets\n",
    "(features_train, features_test, labels_train, labels_test) = train_test_split(\n",
    "    data, labels, test_size=0.25, random_state=42)"
   ]
  },
  {
   "cell_type": "code",
   "execution_count": null,
   "metadata": {},
   "outputs": [],
   "source": [
    "\n",
    "# train a k-NN classifier on the raw pixel intensities\n",
    "model = KNeighborsClassifier(n_neighbors=NEIGHBORS, n_jobs=NUM_JOBS)\n",
    "model.fit(features_train, labels_train)"
   ]
  },
  {
   "cell_type": "code",
   "execution_count": null,
   "metadata": {},
   "outputs": [],
   "source": [
    "# evaluate the k-NN classifier\n",
    "print(classification_report(labels_test, # labels true\n",
    "                            model.predict(features_test), # labels predicted\n",
    "                            target_names=le.classes_))"
   ]
  }
 ],
 "metadata": {
  "kernelspec": {
   "display_name": "Python 3",
   "language": "python",
   "name": "python3"
  },
  "language_info": {
   "codemirror_mode": {
    "name": "ipython",
    "version": 3
   },
   "file_extension": ".py",
   "mimetype": "text/x-python",
   "name": "python",
   "nbconvert_exporter": "python",
   "pygments_lexer": "ipython3"
  }
 },
 "nbformat": 4,
 "nbformat_minor": 2
}
