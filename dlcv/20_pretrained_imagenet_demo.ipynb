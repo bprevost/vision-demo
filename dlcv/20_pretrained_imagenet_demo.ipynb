{
 "cells": [
  {
   "cell_type": "markdown",
   "metadata": {},
   "source": [
    "Inspired by Deep Learning for Computer Vision with Python [Rosebrock]  \n",
    "Chapter 20  \n",
    "Pretrained ImageNet Classifiers"
   ]
  },
  {
   "cell_type": "code",
   "execution_count": null,
   "metadata": {},
   "outputs": [],
   "source": [
    "from os.path import expanduser\n",
    "\n",
    "import glob\n",
    "import tensorflow as tf\n",
    "import numpy as np\n",
    "import cv2"
   ]
  },
  {
   "cell_type": "code",
   "execution_count": null,
   "metadata": {},
   "outputs": [],
   "source": [
    "# define a dictionary of models\n",
    "MODELS = {\n",
    "    \"vgg16\": {\n",
    "        'network': tf.keras.applications.VGG16,\n",
    "        'input_shape': (224, 224),\n",
    "        'preprocess': tf.keras.applications.imagenet_utils.preprocess_input,\n",
    "    },\n",
    "\n",
    "    \"vgg19\": {\n",
    "        'network': tf.keras.applications.VGG19,\n",
    "        'input_shape': (224, 224),\n",
    "        'preprocess': tf.keras.applications.imagenet_utils.preprocess_input,\n",
    "    },\n",
    "\n",
    "    \"resnet\": {\n",
    "        'network': tf.keras.applications.ResNet50,\n",
    "        'input_shape': (224, 224),\n",
    "        'preprocess': tf.keras.applications.imagenet_utils.preprocess_input,\n",
    "    },\n",
    "\n",
    "    \"inception\": {\n",
    "        'network': tf.keras.applications.InceptionV3,\n",
    "        'input_shape': (299, 299),\n",
    "        'preprocess': tf.keras.applications.inception_v3.preprocess_input,\n",
    "    },\n",
    "\n",
    "    \"xception\": {\n",
    "        'network': tf.keras.applications.Xception,\n",
    "        'input_shape': (299, 299),\n",
    "        'preprocess': tf.keras.applications.inception_v3.preprocess_input,\n",
    "    },\n",
    "}"
   ]
  },
  {
   "cell_type": "code",
   "execution_count": null,
   "metadata": {},
   "outputs": [],
   "source": [
    "# prepare the network\n",
    "NETWORK_CHOICE = 'inception'\n",
    "\n",
    "network = MODELS[NETWORK_CHOICE]['network']\n",
    "input_shape = MODELS[NETWORK_CHOICE]['input_shape']\n",
    "preprocess = MODELS[NETWORK_CHOICE]['preprocess']\n",
    "print(NETWORK_CHOICE, input_shape)\n",
    "\n",
    "# load the network weights from disk\n",
    "model = network(weights='imagenet')"
   ]
  },
  {
   "cell_type": "code",
   "execution_count": null,
   "metadata": {},
   "outputs": [],
   "source": [
    "# get list of image files\n",
    "file_list = glob.glob(expanduser('~/dlcv/code/example_images/*.jpg'))\n",
    "file_list.sort()\n",
    "\n",
    "for image_file in file_list:\n",
    "    print(image_file)\n",
    "\n",
    "    # load the input image\n",
    "    image = tf.keras.preprocessing.image.load_img(image_file, target_size=input_shape)\n",
    "\n",
    "    # resize to the required input dimensions\n",
    "    image = tf.keras.preprocessing.image.img_to_array(image)\n",
    "\n",
    "    # expand the dimension of the image array from (rows, cols, 3) to (1, rows, cols, 3)\n",
    "    image = np.expand_dims(image, axis=0)\n",
    "\n",
    "    # preprocess the image using the appropriate function\n",
    "    image = preprocess(image)\n",
    "\n",
    "    # classify the image\n",
    "    preds = model.predict(image)\n",
    "    P = tf.keras.applications.imagenet_utils.decode_predictions(preds, top=3)\n",
    "\n",
    "    # display the predictions and scores\n",
    "    for (i, (class_name, class_description, score)) in enumerate(P[0]):\n",
    "        print(f'{i + 1}. {class_description}: {score * 100:.2f}%')\n",
    "\n",
    "    # load and display the image and the top prediction\n",
    "    disp_image = cv2.imread(image_file)\n",
    "    (class_name, class_description, score) = P[0][0]\n",
    "    cv2.putText(\n",
    "        disp_image,\n",
    "        f'{class_description}',\n",
    "        (10, 30),\n",
    "        cv2.FONT_HERSHEY_SIMPLEX,\n",
    "        0.8,\n",
    "        (0, 255, 0),\n",
    "        2,\n",
    "    )\n",
    "    cv2.imshow(image_file, disp_image)\n",
    "    cv2.waitKey(10)\n",
    "\n",
    "# pause then close all display windows\n",
    "cv2.waitKey(30000)\n",
    "cv2.destroyAllWindows()"
   ]
  }
 ],
 "metadata": {
  "kernelspec": {
   "display_name": "Python 3",
   "language": "python",
   "name": "python3"
  },
  "language_info": {
   "codemirror_mode": {
    "name": "ipython",
    "version": 3
   },
   "file_extension": ".py",
   "mimetype": "text/x-python",
   "name": "python",
   "nbconvert_exporter": "python",
   "pygments_lexer": "ipython3"
  }
 },
 "nbformat": 4,
 "nbformat_minor": 2
}
