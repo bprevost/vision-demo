{
 "cells": [
  {
   "cell_type": "markdown",
   "metadata": {},
   "source": [
    "Inspired by Deep Learning for Computer Vision with Python [Rosebrock]  \n",
    "Chapter 12  \n",
    "ShallowNet: Animals"
   ]
  },
  {
   "cell_type": "code",
   "execution_count": null,
   "metadata": {},
   "outputs": [],
   "source": [
    "import tensorflow as tf\n",
    "import cv2\n",
    "\n",
    "from os.path import expanduser\n",
    "from random import sample\n",
    "\n",
    "from imutils import paths\n",
    "from dlcv import SimpleDatasetLoader, SimplePreprocessor, ImageToArrayPreprocessor"
   ]
  },
  {
   "cell_type": "code",
   "execution_count": null,
   "metadata": {},
   "outputs": [],
   "source": [
    "# path to input dataset\n",
    "DATASET = expanduser('~/dlcv/code/datasets/animals')\n",
    "\n",
    "# get the list of image paths\n",
    "image_paths = list(paths.list_images(DATASET))\n",
    "if not image_paths:\n",
    "    print('Error! No files found!')\n",
    "\n",
    "# randomly sample the image paths\n",
    "NUM_SAMPLES = 10\n",
    "image_paths = sample(image_paths, NUM_SAMPLES)\n",
    "print(image_paths)\n",
    "\n",
    "# initialize the image preprocessors\n",
    "sp = SimplePreprocessor(32, 32)\n",
    "iap = ImageToArrayPreprocessor()\n",
    "\n",
    "# load the dataset from disk\n",
    "sdl = SimpleDatasetLoader(preprocessors=[sp, iap])\n",
    "(data, labels) = sdl.load(image_paths, verbose=500)\n",
    "print('data shape', data.shape)\n",
    "\n",
    "# scale the raw pixel intensities to the range [0, 1]\n",
    "data = data.astype('float32') / 255.0"
   ]
  },
  {
   "cell_type": "code",
   "execution_count": null,
   "metadata": {},
   "outputs": [],
   "source": [
    "# load the pre-trained model\n",
    "model = tf.keras.models.load_model('shallownet_weights.keras')\n",
    "\n",
    "# make predictions on the images\n",
    "label_names = ['cat', 'dog', 'panda']\n",
    "preds = model.predict(data, batch_size=32).argmax(axis=1)\n",
    "print(preds)\n",
    "for (i, image_path) in enumerate(image_paths):\n",
    "    image = cv2.imread(image_path)\n",
    "    cv2.putText(img=image,\n",
    "                text=f'Label: {label_names[preds[i]]}',\n",
    "                org=(10, 30),\n",
    "                fontFace=cv2.FONT_HERSHEY_SIMPLEX,\n",
    "                fontScale=0.7,\n",
    "                color=(0, 255, 0),\n",
    "                thickness=2)\n",
    "    cv2.imshow('Image', image)\n",
    "    cv2.waitKey(2000)\n",
    "    cv2.destroyAllWindows()"
   ]
  }
 ],
 "metadata": {
  "kernelspec": {
   "display_name": "Python 3",
   "language": "python",
   "name": "python3"
  },
  "language_info": {
   "codemirror_mode": {
    "name": "ipython",
    "version": 3
   },
   "file_extension": ".py",
   "mimetype": "text/x-python",
   "name": "python",
   "nbconvert_exporter": "python",
   "pygments_lexer": "ipython3"
  }
 },
 "nbformat": 4,
 "nbformat_minor": 2
}
