{
 "cells": [
  {
   "cell_type": "markdown",
   "metadata": {},
   "source": [
    "Inspired by Deep Learning for Computer Vision with Python [Rosebrock]  \n",
    "Chapter 18  \n",
    "MiniVGGNet: CIFAR-10 with checkpoint saving"
   ]
  },
  {
   "cell_type": "code",
   "execution_count": null,
   "metadata": {},
   "outputs": [],
   "source": [
    "import tensorflow as tf\n",
    "from sklearn.preprocessing import LabelBinarizer\n",
    "from mini_vgg_net import mini_vgg_net\n",
    "\n",
    "from sklearn.metrics import classification_report\n",
    "import matplotlib.pyplot as plt\n",
    "import numpy as np"
   ]
  },
  {
   "cell_type": "code",
   "execution_count": null,
   "metadata": {},
   "outputs": [],
   "source": [
    "# load the CIFAR-10 dataset of 60,000 images of 10 classes\n",
    "# 50,000 for training and 10,000 for testing\n",
    "((trainX, trainY), (testX, testY)) = tf.keras.datasets.cifar10.load_data()\n",
    "\n",
    "# scale data to the range of [0, 1]\n",
    "trainX = trainX.astype('float32') / 255.0\n",
    "testX = testX.astype('float32') / 255.0\n",
    "\n",
    "# convert the labels from integers to vectors\n",
    "lb = LabelBinarizer()\n",
    "trainY = lb.fit_transform(trainY)\n",
    "testY = lb.transform(testY)"
   ]
  },
  {
   "cell_type": "code",
   "execution_count": null,
   "metadata": {},
   "outputs": [],
   "source": [
    "model = mini_vgg_net()\n",
    "model.summary()\n",
    "\n",
    "# initialize the gradient descent optimizer\n",
    "sgd = tf.keras.optimizers.SGD(learning_rate=0.01, weight_decay=0.01 / 40, momentum=0.9, nesterov=True)\n",
    "\n",
    "# compile the model\n",
    "model.compile(loss='categorical_crossentropy', optimizer=sgd, metrics=['accuracy'])"
   ]
  },
  {
   "cell_type": "code",
   "execution_count": null,
   "metadata": {},
   "outputs": [],
   "source": [
    "filepath = 'cifar10_weights_{epoch:02d}-{val_loss:.2f}.hdf5'\n",
    "filepath = 'cifar10_best_weights.hdf5'\n",
    "\n",
    "checkpoint_callback = tf.keras.callbacks.ModelCheckpoint(\n",
    "    filepath=filepath,\n",
    "    monitor='val_loss',\n",
    "    mode='min',\n",
    "    save_best_only=True,\n",
    "    verbose=1)\n",
    "\n",
    "# train the model\n",
    "EPOCHS = 40\n",
    "H = model.fit(trainX, trainY, validation_data=(testX, testY), batch_size=64, epochs=EPOCHS, verbose=1,\n",
    "              callbacks=[checkpoint_callback])"
   ]
  },
  {
   "cell_type": "code",
   "execution_count": null,
   "metadata": {},
   "outputs": [],
   "source": [
    "# evaluate the network\n",
    "predictions = model.predict(testX, batch_size=64)\n",
    "label_names = ['airplane', 'automobile', 'bird', 'cat', 'deer', 'dog', 'frog', 'horse', 'ship', 'truck']\n",
    "report = classification_report(\n",
    "    y_true=testY.argmax(axis=1),\n",
    "    y_pred=predictions.argmax(axis=1),\n",
    "    target_names=label_names)\n",
    "print(report)\n",
    "\n",
    "# plot the training loss and accuracy\n",
    "plt.style.use('ggplot')\n",
    "plt.figure()\n",
    "plt.plot(np.arange(0, EPOCHS), H.history['loss'], label='train_loss')\n",
    "plt.plot(np.arange(0, EPOCHS), H.history['val_loss'], label='val_loss')\n",
    "plt.plot(np.arange(0, EPOCHS), H.history['accuracy'], label='train_acc')\n",
    "plt.plot(np.arange(0, EPOCHS), H.history['val_accuracy'], label='val_acc')\n",
    "plt.title('Training Loss and Accuracy')\n",
    "plt.xlabel('Epoch #')\n",
    "plt.ylabel('Loss/Accuracy')\n",
    "plt.legend()\n",
    "plt.show()"
   ]
  }
 ],
 "metadata": {
  "kernelspec": {
   "display_name": "Python 3",
   "language": "python",
   "name": "python3"
  },
  "language_info": {
   "codemirror_mode": {
    "name": "ipython",
    "version": 3
   },
   "file_extension": ".py",
   "mimetype": "text/x-python",
   "name": "python",
   "nbconvert_exporter": "python",
   "pygments_lexer": "ipython3"
  }
 },
 "nbformat": 4,
 "nbformat_minor": 2
}
