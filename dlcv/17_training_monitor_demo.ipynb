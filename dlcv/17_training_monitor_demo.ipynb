{
 "cells": [
  {
   "cell_type": "markdown",
   "metadata": {},
   "source": [
    "Inspired by Deep Learning for Computer Vision with Python [Rosebrock]  \n",
    "Chapter 17  \n",
    "MiniVGGNet: CIFAR-10 with training monitor"
   ]
  },
  {
   "cell_type": "code",
   "execution_count": null,
   "metadata": {},
   "outputs": [],
   "source": [
    "import tensorflow as tf\n",
    "from sklearn.preprocessing import LabelBinarizer\n",
    "from mini_vgg_net import mini_vgg_net\n",
    "\n",
    "import os\n",
    "import json\n",
    "import matplotlib.pyplot as plt\n",
    "import numpy as np"
   ]
  },
  {
   "cell_type": "code",
   "execution_count": null,
   "metadata": {},
   "outputs": [],
   "source": [
    "class TrainingMonitor(tf.keras.callbacks.BaseLogger):\n",
    "\n",
    "    def __init__(self, fig_path, json_path, start_at=0):\n",
    "        super(TrainingMonitor, self).__init__()\n",
    "        self.fig_path = fig_path   # output path for the figure\n",
    "        self.json_path = json_path # path to the JSON serialized file\n",
    "        self.start_at = start_at   # the starting epoch\n",
    "\n",
    "    def on_train_begin(self, logs={}):\n",
    "        self.H = {} # initialize the history dictionary\n",
    "        # load the training history if the JSON path already exists\n",
    "        if self.json_path is not None:\n",
    "            if os.path.exists(self.json_path):\n",
    "                self.H = json.loads(open(self.json_path).read())\n",
    "                # check to see if a starting epoch was supplied\n",
    "                if self.start_at > 0:\n",
    "                    # trim any entries that are past the starting epoch\n",
    "                    for k in self.H.keys():\n",
    "                        self.H[k] = self.H[k][:self.start_at]\n",
    "\n",
    "    def on_epoch_end(self, epoch, logs={}):\n",
    "        # loop over the logs and update the loss, accuracy, etc.\n",
    "        for (k, v) in logs.items():\n",
    "            l = self.H.get(k, [])\n",
    "            l.append(float(v))\n",
    "            self.H[k] = l\n",
    "\n",
    "        # check to see if the training history should be serialized to file\n",
    "        if self.json_path is not None:\n",
    "            f = open(self.json_path, 'w')\n",
    "            f.write(json.dumps(self.H))\n",
    "            f.close()        # ensure at least two epochs have passed before plotting\n",
    "        # (epoch starts at zero)\n",
    "        if len(self.H['loss']) > 1:\n",
    "            # plot the training loss and accuracy\n",
    "            N = np.arange(0, len(self.H['loss']))\n",
    "            plt.style.use('ggplot')\n",
    "            plt.figure()\n",
    "            plt.plot(N, self.H['loss'], label='train_loss')\n",
    "            plt.plot(N, self.H['val_loss'], label='val_loss')\n",
    "            plt.plot(N, self.H['accuracy'], label='train_acc')\n",
    "            plt.plot(N, self.H['val_accuracy'], label='val_acc')\n",
    "            plt.title('Training Loss and Accuracy [Epoch {}]'.format(len(self.H['loss'])))\n",
    "            plt.xlabel('Epoch #')\n",
    "            plt.ylabel('Loss/Accuracy')\n",
    "            plt.legend()\n",
    "\n",
    "            # save the figure\n",
    "            plt.savefig(self.fig_path)\n",
    "            plt.close()"
   ]
  },
  {
   "cell_type": "code",
   "execution_count": null,
   "metadata": {},
   "outputs": [],
   "source": [
    "# load the CIFAR-10 dataset of 60,000 images of 10 classes\n",
    "# 50,000 for training and 10,000 for testing\n",
    "((trainX, trainY), (testX, testY)) = tf.keras.datasets.cifar10.load_data()\n",
    "\n",
    "# scale data to the range of [0, 1]\n",
    "trainX = trainX.astype('float32') / 255.0\n",
    "testX = testX.astype('float32') / 255.0\n",
    "\n",
    "# convert the labels from integers to vectors\n",
    "lb = LabelBinarizer()\n",
    "trainY = lb.fit_transform(trainY)\n",
    "testY = lb.transform(testY)"
   ]
  },
  {
   "cell_type": "code",
   "execution_count": null,
   "metadata": {},
   "outputs": [],
   "source": [
    "model = mini_vgg_net()\n",
    "model.summary()\n",
    "\n",
    "# initialize the gradient descent optimizer\n",
    "sgd = tf.keras.optimizers.SGD(learning_rate=0.01, momentum=0.9, nesterov=True)\n",
    "\n",
    "# compile the model\n",
    "model.compile(loss='categorical_crossentropy', optimizer=sgd, metrics=['accuracy'])"
   ]
  },
  {
   "cell_type": "code",
   "execution_count": null,
   "metadata": {},
   "outputs": [],
   "source": [
    "process_id = os.getpid()\n",
    "print(f'process_id=')\n",
    "\n",
    "# construct the set of callbacks\n",
    "fig_path = f'{process_id}.png'\n",
    "json_path = f'{process_id}.json'\n",
    "\n",
    "# train the model\n",
    "EPOCHS = 100\n",
    "H = model.fit(trainX, trainY, validation_data=(testX, testY), batch_size=64, epochs=EPOCHS, verbose=1,\n",
    "              callbacks=[TrainingMonitor(fig_path, json_path)])"
   ]
  }
 ],
 "metadata": {
  "kernelspec": {
   "display_name": "Python 3",
   "language": "python",
   "name": "python3"
  },
  "language_info": {
   "codemirror_mode": {
    "name": "ipython",
    "version": 3
   },
   "file_extension": ".py",
   "mimetype": "text/x-python",
   "name": "python",
   "nbconvert_exporter": "python",
   "pygments_lexer": "ipython3"
  }
 },
 "nbformat": 4,
 "nbformat_minor": 2
}
