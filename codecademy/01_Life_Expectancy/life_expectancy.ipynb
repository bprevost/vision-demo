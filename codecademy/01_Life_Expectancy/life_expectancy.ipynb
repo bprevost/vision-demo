{
 "cells": [
  {
   "cell_type": "markdown",
   "metadata": {},
   "source": [
    "# Life Expectancy\n",
    "\n",
    "Codacademy Exercise: Implementing Neural Networks\n",
    "\n",
    "Predict life expectancy using a neural network to perform regression."
   ]
  },
  {
   "cell_type": "code",
   "execution_count": null,
   "metadata": {},
   "outputs": [],
   "source": [
    "import pandas as pd\n",
    "\n",
    "from sklearn.model_selection import train_test_split\n",
    "from sklearn.preprocessing import StandardScaler\n",
    "from sklearn.compose import ColumnTransformer\n",
    "\n",
    "from tensorflow.keras.models import Sequential\n",
    "from tensorflow.keras.layers import InputLayer, Dense\n",
    "from tensorflow.keras.optimizers import Adam"
   ]
  },
  {
   "cell_type": "code",
   "execution_count": null,
   "metadata": {},
   "outputs": [],
   "source": [
    "# load the dataset into a pandas DataFrame\n",
    "dataset = pd.read_csv('life_expectancy.csv')\n",
    "\n",
    "# print the first five entries in the dataset and the summary stats\n",
    "print(dataset.head(5))\n",
    "print(dataset.describe())"
   ]
  },
  {
   "cell_type": "code",
   "execution_count": null,
   "metadata": {},
   "outputs": [],
   "source": [
    "# remove the country column from the dataset\n",
    "dataset = dataset.drop(['country'], axis=1)\n",
    "\n",
    "# split the data into labels and features\n",
    "labels = dataset.iloc[:, -1] # select the last column\n",
    "features = dataset.iloc[:, 0:-1] # select all columns except the last\n",
    "\n",
    "# apply one-hot-encoding to the categorical columns\n",
    "features = pd.get_dummies(features)\n",
    "\n",
    "# split the data into a training set and a test set\n",
    "features_train, features_test, labels_train, labels_test = train_test_split(features, labels, test_size=0.20, random_state=42)\n",
    "\n",
    "# standardize the numerical features\n",
    "numerical_features = features.select_dtypes(include=['float64', 'int64'])\n",
    "numerical_columns = numerical_features.columns\n",
    "ct = ColumnTransformer([('numeric', StandardScaler(), numerical_columns)], remainder='passthrough')\n",
    "features_train_scaled = ct.fit_transform(features_train)\n",
    "features_test_scaled = ct.transform(features_test)"
   ]
  },
  {
   "cell_type": "code",
   "execution_count": null,
   "metadata": {},
   "outputs": [],
   "source": [
    "# build the model\n",
    "num_features = features.shape[1]\n",
    "my_model = Sequential()\n",
    "my_model.add(InputLayer(input_shape=(num_features)))\n",
    "my_model.add(Dense(64, activation = 'relu')) # hidden layer\n",
    "my_model.add(Dense(1)) # output layer\n",
    "print(my_model.summary())\n",
    "\n",
    "# initialize the gradient descent optimizer\n",
    "opt = Adam(learning_rate = 0.01)\n",
    "\n",
    "# compile the model\n",
    "# using mean-squared error as the loss function and mean average error as the metric\n",
    "my_model.compile(loss = 'mse', metrics = ['mae'], optimizer = opt)"
   ]
  },
  {
   "cell_type": "code",
   "execution_count": null,
   "metadata": {},
   "outputs": [],
   "source": [
    "# train the model\n",
    "my_model.fit(features_train_scaled, labels_train, epochs=50, batch_size=1, verbose=1)"
   ]
  },
  {
   "cell_type": "code",
   "execution_count": null,
   "metadata": {},
   "outputs": [],
   "source": [
    "# evaluate the trained model with the test set\n",
    "val_mse, val_mae = my_model.evaluate(features_test_scaled,labels_test, verbose=1)\n",
    "print('MAE: ', val_mae)"
   ]
  }
 ],
 "metadata": {
  "accelerator": "GPU",
  "colab": {
   "authorship_tag": "ABX9TyNkgEW6qv7H38atfcFuNj2q",
   "gpuType": "T4",
   "provenance": []
  },
  "kernelspec": {
   "display_name": "Python 3",
   "name": "python3"
  },
  "language_info": {
   "codemirror_mode": {
    "name": "ipython",
    "version": 3
   },
   "file_extension": ".py",
   "mimetype": "text/x-python",
   "name": "python",
   "nbconvert_exporter": "python",
   "pygments_lexer": "ipython3"
  }
 },
 "nbformat": 4,
 "nbformat_minor": 0
}
