{
 "cells": [
  {
   "cell_type": "markdown",
   "metadata": {},
   "source": [
    "# Air Quality\n",
    "\n",
    "Codacademy Exercise: Deep Learning Classification\n",
    "\n",
    "Predict air quality dependent on different element compounds found in the air."
   ]
  },
  {
   "cell_type": "code",
   "execution_count": null,
   "metadata": {},
   "outputs": [],
   "source": [
    "import pandas as pd\n",
    "from collections import Counter\n",
    "from sklearn.preprocessing import LabelEncoder\n",
    "\n",
    "import tensorflow\n",
    "from tensorflow.keras.models import Sequential\n",
    "from tensorflow.keras.layers import InputLayer, Dense"
   ]
  },
  {
   "cell_type": "code",
   "execution_count": null,
   "metadata": {},
   "outputs": [],
   "source": [
    "# load the training and testing datasets into pandas\n",
    "train_data = pd.read_csv('air_quality_train.csv')\n",
    "test_data = pd.read_csv('air_quality_test.csv')\n",
    "\n",
    "# print columns and their respective types\n",
    "print(train_data.info())\n",
    "\n",
    "# print the class distribution\n",
    "print(Counter(train_data['Air_Quality']))"
   ]
  },
  {
   "cell_type": "code",
   "execution_count": null,
   "metadata": {},
   "outputs": [],
   "source": [
    "# extract the features from the training data\n",
    "x_train = train_data[['PM2.5', 'PM10', 'NO', 'NO2', 'NOx', 'NH3', 'CO', 'SO2', 'O3', 'Benzene', 'Toluene', 'Xylene', 'AQI']]\n",
    "\n",
    "# extract the label column from the training data\n",
    "y_train = train_data['Air_Quality']\n",
    "\n",
    "# extract the features from the test data\n",
    "x_test = test_data[['PM2.5', 'PM10', 'NO', 'NO2', 'NOx', 'NH3', 'CO', 'SO2', 'O3', 'Benzene', 'Toluene', 'Xylene', 'AQI']]\n",
    "\n",
    "# extract the label column from the test data\n",
    "y_test = test_data['Air_Quality']"
   ]
  },
  {
   "cell_type": "code",
   "execution_count": null,
   "metadata": {},
   "outputs": [],
   "source": [
    "# encode the labels into integers\n",
    "le = LabelEncoder()\n",
    "\n",
    "# convert the integer encoded labels into binary integers\n",
    "y_train = le.fit_transform(y_train.astype(str))\n",
    "y_test = le.transform(y_test.astype(str))\n",
    "\n",
    "# convert the integer encoded labels into binary vectors\n",
    "y_train = tensorflow.keras.utils.to_categorical(y_train, dtype = 'int64')\n",
    "y_test = tensorflow.keras.utils.to_categorical(y_test, dtype = 'int64')"
   ]
  },
  {
   "cell_type": "code",
   "execution_count": null,
   "metadata": {},
   "outputs": [],
   "source": [
    "# design the model\n",
    "model = Sequential()\n",
    "# add the input layer\n",
    "model.add(InputLayer(input_shape=(x_train.shape[1],)))\n",
    "# add a hidden layer\n",
    "model.add(Dense(10, activation='relu'))\n",
    "# add an output layer\n",
    "model.add(Dense(6, activation='softmax'))\n",
    "\n",
    "# compile the model\n",
    "model.compile(loss='categorical_crossentropy', optimizer='adam', metrics=['accuracy'])"
   ]
  },
  {
   "cell_type": "code",
   "execution_count": null,
   "metadata": {},
   "outputs": [],
   "source": [
    "# train the model\n",
    "model.fit(x_train, y_train, epochs = 30, batch_size = 16, verbose = 1)"
   ]
  },
  {
   "cell_type": "code",
   "execution_count": null,
   "metadata": {},
   "outputs": [],
   "source": [
    "import numpy as np\n",
    "from sklearn.metrics import classification_report\n",
    "\n",
    "# get additional statistics\n",
    "y_estimate = model.predict(x_test)\n",
    "y_estimate = np.argmax(y_estimate, axis = 1)\n",
    "y_true = np.argmax(y_test, axis = 1)\n",
    "print(classification_report(y_true, y_estimate))"
   ]
  }
 ],
 "metadata": {
  "accelerator": "GPU",
  "colab": {
   "authorship_tag": "ABX9TyNJp+3PocsKA9Jk5SMYsZMi",
   "gpuType": "T4",
   "provenance": []
  },
  "kernelspec": {
   "display_name": "Python 3",
   "name": "python3"
  },
  "language_info": {
   "codemirror_mode": {
    "name": "ipython",
    "version": 3
   },
   "file_extension": ".py",
   "mimetype": "text/x-python",
   "name": "python",
   "nbconvert_exporter": "python",
   "pygments_lexer": "ipython3"
  }
 },
 "nbformat": 4,
 "nbformat_minor": 0
}
