{
 "cells": [
  {
   "cell_type": "markdown",
   "metadata": {},
   "source": [
    "# Heart Failure\n",
    "\n",
    "Codacademy Exercise: Deep Learning Classification\n",
    "\n",
    "Predict the survival of patients with heart failure."
   ]
  },
  {
   "cell_type": "code",
   "execution_count": null,
   "metadata": {},
   "outputs": [],
   "source": [
    "import pandas as pd\n",
    "from collections import Counter\n",
    "\n",
    "from sklearn.model_selection import train_test_split\n",
    "from sklearn.preprocessing import StandardScaler\n",
    "from sklearn.compose import ColumnTransformer\n",
    "from sklearn.preprocessing import LabelEncoder\n",
    "\n",
    "import tensorflow as tf\n",
    "from tensorflow.keras.models import Sequential\n",
    "from tensorflow.keras.layers import InputLayer, Dense\n",
    "from tensorflow.keras.optimizers import Adam"
   ]
  },
  {
   "cell_type": "code",
   "execution_count": null,
   "metadata": {},
   "outputs": [],
   "source": [
    "# Load the data into pandas\n",
    "data = pd.read_csv('heart_failure.csv')\n",
    "\n",
    "# print columns and their respective types\n",
    "print('Data Columns and Types')\n",
    "print(data.info())\n",
    "\n",
    "# print the class distribution\n",
    "print('\\nClass Distribution')\n",
    "print(Counter(data['death_event']))\n",
    "\n",
    "# print the first five entries in the dataset and the summary stats\n",
    "print('\\nDataset')\n",
    "print(data.head(5))\n",
    "print('\\nSummary Stats')\n",
    "print(data.describe())"
   ]
  },
  {
   "cell_type": "code",
   "execution_count": null,
   "metadata": {},
   "outputs": [],
   "source": [
    "# extract the label column\n",
    "y = data['death_event']\n",
    "\n",
    "# extract the features\n",
    "x = data[['age','anaemia','creatinine_phosphokinase','diabetes','ejection_fraction','high_blood_pressure',\n",
    "          'platelets','serum_creatinine','serum_sodium','sex','smoking','time']]\n",
    "\n",
    "# apply one-hot-encoding to the categorical columns\n",
    "x = pd.get_dummies(x)\n",
    "\n",
    "# split the data into a training set and a test set\n",
    "# common sizes for a test set range between 0.20 and 0.35\n",
    "TEST_SIZE = 0.3\n",
    "X_train, X_test, Y_train, Y_test = train_test_split(x, y, test_size=TEST_SIZE, random_state=42)\n",
    "\n",
    "# standardize the numerical features\n",
    "numerical_features = x.select_dtypes(include=['float64', 'int64'])\n",
    "numerical_columns = numerical_features.columns\n",
    "ct = ColumnTransformer([('numeric', StandardScaler(), numerical_columns)], remainder='passthrough')\n",
    "X_train = ct.fit_transform(X_train)\n",
    "X_test = ct.transform(X_test)\n",
    "\n",
    "# encode the labels into integers\n",
    "le = LabelEncoder()\n",
    "\n",
    "# convert the integer encoded labels into binary integers\n",
    "Y_train = le.fit_transform(Y_train.astype(str))\n",
    "Y_test = le.transform(Y_test.astype(str))\n",
    "\n",
    "# convert the integer encoded labels into binary vectors\n",
    "Y_train = tf.keras.utils.to_categorical(Y_train, dtype = 'int64')\n",
    "Y_test = tf.keras.utils.to_categorical(Y_test, dtype = 'int64')"
   ]
  },
  {
   "cell_type": "code",
   "execution_count": null,
   "metadata": {},
   "outputs": [],
   "source": [
    "# build the model\n",
    "num_features = X_train.shape[1]\n",
    "num_classes = 2\n",
    "model = Sequential()\n",
    "model.add(InputLayer(input_shape=(num_features)))\n",
    "model.add(Dense(12, activation='relu'))\n",
    "model.add(Dense(num_classes, activation='softmax'))\n",
    "\n",
    "# compile the model\n",
    "model.compile(loss='categorical_crossentropy', optimizer='adam', metrics=['accuracy'])"
   ]
  },
  {
   "cell_type": "code",
   "execution_count": null,
   "metadata": {},
   "outputs": [],
   "source": [
    "# train the model\n",
    "model.fit(X_train, Y_train, epochs=100, batch_size=16, verbose=1)"
   ]
  },
  {
   "cell_type": "code",
   "execution_count": null,
   "metadata": {},
   "outputs": [],
   "source": [
    "# evaluate the trained model with the test set\n",
    "loss, acc = model.evaluate(X_test, Y_test, verbose=0)\n",
    "print(\"Loss\", loss, \"Accuracy:\", acc)"
   ]
  },
  {
   "cell_type": "code",
   "execution_count": null,
   "metadata": {},
   "outputs": [],
   "source": [
    "import numpy as np\n",
    "from sklearn.metrics import classification_report\n",
    "\n",
    "# get additional statistics\n",
    "y_estimate = model.predict(X_test)\n",
    "y_estimate = np.argmax(y_estimate, axis = 1)\n",
    "y_true = np.argmax(Y_test, axis = 1)\n",
    "print(classification_report(y_true, y_estimate))"
   ]
  }
 ],
 "metadata": {
  "accelerator": "GPU",
  "colab": {
   "authorship_tag": "ABX9TyPW+k/G/vx5ipLNP/10nUI3",
   "gpuType": "T4",
   "provenance": []
  },
  "kernelspec": {
   "display_name": "Python 3",
   "name": "python3"
  },
  "language_info": {
   "codemirror_mode": {
    "name": "ipython",
    "version": 3
   },
   "file_extension": ".py",
   "mimetype": "text/x-python",
   "name": "python",
   "nbconvert_exporter": "python",
   "pygments_lexer": "ipython3"
  }
 },
 "nbformat": 4,
 "nbformat_minor": 0
}
