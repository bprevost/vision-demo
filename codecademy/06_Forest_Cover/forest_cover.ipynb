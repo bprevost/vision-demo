{
 "cells": [
  {
   "cell_type": "markdown",
   "metadata": {},
   "source": [
    "# Forest Cover\n",
    "\n",
    "Codacademy Exercise: Deep Learning Portfolio Project\n",
    "\n",
    "Forest Cover Classification"
   ]
  },
  {
   "cell_type": "markdown",
   "metadata": {},
   "source": [
    "## Preprocess and explore the dataset\n",
    "\n",
    "Load the dataset, preprocess it, and conduct some exploratory data analysis to understand the data.\n",
    "\n",
    "| Name                               | Data Type    | Measurement                 | Description                                   |\n",
    "| ---                                | ---          | ---                         | ---                                           |\n",
    "| Elevation                          | quantitative | meters                      | Elevation in meters                           |\n",
    "| Aspect                             | quantitative | azimuth                     | Aspect in degrees azimuth                     |\n",
    "| Slope                              | quantitative | degrees                     | Slope in degrees                              |\n",
    "| Horizontal_Distance_To_Hydrology   | quantitative | meters                      | Horz Dist to nearest surface water features   |\n",
    "| Vertical_Distance_To_Hydrology     | quantitative | meters                      | Vert Dist to nearest surface water features   |\n",
    "| Horizontal_Distance_To_Roadways    | quantitative | meters                      | Horz Dist to nearest roadway                  |\n",
    "| Hillshade_9am                      | quantitative | 0 to 255 index              | Hillshade index at 9am, summer solstice       |\n",
    "| Hillshade_Noon                     | quantitative | 0 to 255 index              | Hillshade index at noon, summer solstice      |\n",
    "| Hillshade_3pm                      | quantitative | 0 to 255 index              | Hillshade index at 3pm, summer solstice       |\n",
    "| Horizontal_Distance_To_Fire_Points | quantitative | meters                      | Horz Dist to nearest wildfire ignition points |\n",
    "| Wilderness_Area (4 binary columns) | qualitative  | 0 (absence) or 1 (presence) | Wilderness area designation                   |\n",
    "| Soil_Type (40 binary columns)      | qualitative  | 0 (absence) or 1 (presence) | Soil Type designation                         |\n",
    "| Cover_Type (7 types)               | integer      | 1 to 7                      | Forest Cover Type designation                 |\n",
    "\n",
    "The cover types are the following:\n",
    "- Spruce/Fir\n",
    "- Lodgepole Pine\n",
    "- Ponderosa Pine\n",
    "- Cottonwood/Willow\n",
    "- Aspen\n",
    "- Douglas-fir\n",
    "- Krummholz"
   ]
  },
  {
   "cell_type": "code",
   "execution_count": null,
   "metadata": {},
   "outputs": [],
   "source": [
    "import pandas as pd\n",
    "from collections import Counter\n",
    "\n",
    "# Load the data into pandas\n",
    "data = pd.read_csv('forest_cover.csv')\n",
    "\n",
    "# pd.set_option('mode.chained_assignment', None) # suppress warning message\n",
    "\n",
    "# Convert wilderness area columns to bool\n",
    "boolean_column_names = data.filter(like='Wilderness_Area').columns.tolist()\n",
    "data[boolean_column_names] = data[boolean_column_names].astype('bool')\n",
    "\n",
    "# Convert soil type columns to bool\n",
    "boolean_column_names = data.filter(like='Soil_Type').columns.tolist()\n",
    "data[boolean_column_names] = data[boolean_column_names].astype('bool')\n",
    "\n",
    "# convert cover type to range [0, 6]\n",
    "data['Cover_Type'] = data['Cover_Type'] - 1\n",
    "\n",
    "# print columns and their respective types\n",
    "print('Data Columns and Types')\n",
    "print(data.info())\n",
    "\n",
    "# print the class distribution\n",
    "print('\\nClass Distribution')\n",
    "print(Counter(data['Cover_Type']))\n",
    "\n",
    "# print the first five entries in the dataset and the summary stats\n",
    "# print('\\nDataset')\n",
    "# print(data.head(5))\n",
    "# print('\\nSummary Stats')\n",
    "# print(data.describe())"
   ]
  },
  {
   "cell_type": "markdown",
   "metadata": {},
   "source": [
    "## Build and train the model\n",
    "\n",
    "Split the dataset for training, validation, and testing.  \n",
    "Then create and train the model using TensorFlow with Keras."
   ]
  },
  {
   "cell_type": "code",
   "execution_count": null,
   "metadata": {},
   "outputs": [],
   "source": [
    "from sklearn.model_selection import train_test_split\n",
    "from sklearn.preprocessing import StandardScaler\n",
    "from sklearn.compose import ColumnTransformer\n",
    "\n",
    "import tensorflow as tf\n",
    "\n",
    "# split the data into labels and features\n",
    "labels = data.iloc[:, -1] # select the last column\n",
    "features = data.iloc[:, 0:-1] # select all columns except the last\n",
    "\n",
    "# split the data into a training set and a test set\n",
    "features_train, features_test, labels_train, labels_test = train_test_split(features, labels, test_size=0.30, random_state=42)\n",
    "\n",
    "# standardize the numerical features\n",
    "numerical_features = features.select_dtypes(include=['float64', 'int64'])\n",
    "numerical_columns = numerical_features.columns\n",
    "ct = ColumnTransformer([('numeric', StandardScaler(), numerical_columns)], remainder='passthrough')\n",
    "features_train_scaled = ct.fit_transform(features_train)\n",
    "features_test_scaled = ct.transform(features_test)\n",
    "\n",
    "# convert the integer encoded labels into binary vectors\n",
    "labels_train = tf.keras.utils.to_categorical(labels_train, dtype='int64')\n",
    "labels_test = tf.keras.utils.to_categorical(labels_test, dtype='int64')"
   ]
  },
  {
   "cell_type": "code",
   "execution_count": null,
   "metadata": {},
   "outputs": [],
   "source": [
    "# build the model\n",
    "num_features = features_train.shape[1]\n",
    "num_classes = 7\n",
    "\n",
    "print(f'{num_features=}')\n",
    "print(f'{num_classes=}')\n",
    "\n",
    "model = tf.keras.models.Sequential()\n",
    "model.add(tf.keras.layers.InputLayer(input_shape=(num_features))) # input layer\n",
    "model.add(tf.keras.layers.Dense(32, activation='relu')) # hidden layer\n",
    "model.add(tf.keras.layers.Dense(16, activation='relu')) # hidden layer\n",
    "model.add(tf.keras.layers.Dense(8, activation='relu')) # hidden layer\n",
    "model.add(tf.keras.layers.Dense(num_classes, activation='softmax')) # output layer\n",
    "\n",
    "model.summary()\n",
    "\n",
    "# initialize the gradient descent optimizer\n",
    "opt = tf.keras.optimizers.Adam(learning_rate=0.01)\n",
    "\n",
    "# compile the model\n",
    "model.compile(loss='categorical_crossentropy', optimizer=opt, metrics=['accuracy'])"
   ]
  },
  {
   "cell_type": "code",
   "execution_count": null,
   "metadata": {},
   "outputs": [],
   "source": [
    "# train the model\n",
    "model.fit(x=features_train_scaled, y=labels_train, epochs=20, batch_size=128, verbose=1)"
   ]
  },
  {
   "cell_type": "code",
   "execution_count": null,
   "metadata": {},
   "outputs": [],
   "source": [
    "import numpy as np\n",
    "from sklearn.metrics import classification_report\n",
    "\n",
    "# get additional statistics\n",
    "y_estimate = model.predict(features_test_scaled)\n",
    "y_estimate = np.argmax(y_estimate, axis=1)\n",
    "y_true = np.argmax(labels_test, axis=1)\n",
    "print(classification_report(y_true, y_estimate))"
   ]
  }
 ],
 "metadata": {
  "kernelspec": {
   "display_name": "Python 3",
   "language": "python",
   "name": "python3"
  },
  "language_info": {
   "codemirror_mode": {
    "name": "ipython",
    "version": 3
   },
   "file_extension": ".py",
   "mimetype": "text/x-python",
   "name": "python",
   "nbconvert_exporter": "python",
   "pygments_lexer": "ipython3"
  }
 },
 "nbformat": 4,
 "nbformat_minor": 2
}
