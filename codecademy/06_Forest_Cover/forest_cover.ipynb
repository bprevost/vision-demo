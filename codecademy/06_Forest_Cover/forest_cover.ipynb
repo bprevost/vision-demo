{
 "cells": [
  {
   "cell_type": "markdown",
   "metadata": {},
   "source": [
    "# Forest Cover\n",
    "\n",
    "Codacademy Exercise: Deep Learning Portfolio Project\n",
    "\n",
    "Forest Cover Classification\n",
    "\n",
    "The covertypes are the following:\n",
    "- Spruce/Fir\n",
    "- Lodgepole Pine\n",
    "- Ponderosa Pine\n",
    "- Cottonwood/Willow\n",
    "- Aspen\n",
    "- Douglas-fir\n",
    "- Krummholz"
   ]
  },
  {
   "cell_type": "markdown",
   "metadata": {},
   "source": [
    "## Preprocess and explore the dataset\n",
    "\n",
    "Download the dataset, preprocess it, and conduct some exploratory data analysis to understand the data. See if any data can be removed or if you need to balance your data at all.\n",
    "\n",
    "| Name                               | Data Type    | Measurement                 | Description                                   |\n",
    "| ---                                | ---          | ---                         | ---                                           |\n",
    "| Elevation                          | quantitative | meters                      | Elevation in meters                           |\n",
    "| Aspect                             | quantitative | azimuth                     | Aspect in degrees azimuth                     |\n",
    "| Slope                              | quantitative | degrees                     | Slope in degrees                              |\n",
    "| Horizontal_Distance_To_Hydrology   | quantitative | meters                      | Horz Dist to nearest surface water features   |\n",
    "| Vertical_Distance_To_Hydrology     | quantitative | meters                      | Vert Dist to nearest surface water features   |\n",
    "| Horizontal_Distance_To_Roadways    | quantitative | meters                      | Horz Dist to nearest roadway                  |\n",
    "| Hillshade_9am                      | quantitative | 0 to 255 index              | Hillshade index at 9am, summer solstice       |\n",
    "| Hillshade_Noon                     | quantitative | 0 to 255 index              | Hillshade index at noon, summer solstice      |\n",
    "| Hillshade_3pm                      | quantitative | 0 to 255 index              | Hillshade index at 3pm, summer solstice       |\n",
    "| Horizontal_Distance_To_Fire_Points | quantitative | meters                      | Horz Dist to nearest wildfire ignition points |\n",
    "| Wilderness_Area (4 binary columns) | qualitative  | 0 (absence) or 1 (presence) | Wilderness area designation                   |\n",
    "| Soil_Type (40 binary columns)      | qualitative  | 0 (absence) or 1 (presence) | Soil Type designation                         |\n",
    "| Cover_Type (7 types)               | integer      | 1 to 7                      | Forest Cover Type designation                 |\n"
   ]
  },
  {
   "cell_type": "code",
   "execution_count": null,
   "metadata": {},
   "outputs": [],
   "source": []
  }
 ],
 "metadata": {
  "language_info": {
   "name": "python"
  }
 },
 "nbformat": 4,
 "nbformat_minor": 2
}
